{
 "cells": [
  {
   "cell_type": "markdown",
   "metadata": {},
   "source": [
    "# Build Model and Generate Predictions"
   ]
  },
  {
   "cell_type": "markdown",
   "metadata": {},
   "source": [
    "### Load Necessary Packages"
   ]
  },
  {
   "cell_type": "code",
   "execution_count": 17,
   "metadata": {},
   "outputs": [],
   "source": [
    "import os\n",
    "import time\n",
    "import random\n",
    "\n",
    "import numpy as np\n",
    "import pandas as pd\n",
    "import xgboost as xgb\n",
    "\n",
    "import matplotlib.pyplot as plt\n",
    "%matplotlib inline\n",
    "import re\n",
    "import gc"
   ]
  },
  {
   "cell_type": "markdown",
   "metadata": {},
   "source": [
    "### Create function for checking memory usage of dataframes"
   ]
  },
  {
   "cell_type": "code",
   "execution_count": 2,
   "metadata": {
    "collapsed": true
   },
   "outputs": [],
   "source": [
    "def check_memory_usage(data):\n",
    "    \"\"\" Takes DataFrame as input and returns memory usage statistics. \n",
    "    \"\"\"\n",
    "    print(data.info(memory_usage=True))    "
   ]
  },
  {
   "cell_type": "markdown",
   "metadata": {},
   "source": [
    "###  Create custom evaluation metric, Root Mean Log Squared Error (RMSLE)"
   ]
  },
  {
   "cell_type": "code",
   "execution_count": 3,
   "metadata": {
    "collapsed": true
   },
   "outputs": [],
   "source": [
    "def RMSLE(actuals, predictions):\n",
    "    \"\"\" Takes true values and predictions. Returns their Root Mean Squared Logarithmic Error.\n",
    "    \"\"\"\n",
    "    result = 0.0\n",
    "    actuals = np.asarray(actuals) * 1.0\n",
    "    predictions = np.asarray(predictions)\n",
    "    if(len(actuals) == len(predictions)):\n",
    "        result = np.sqrt(sum(((np.log(predictions + 1.0) - np.log(actuals + 1.0)) ** 2) / len(actuals)))\n",
    "        return result\n",
    "    else: \n",
    "        return \"Error!\""
   ]
  },
  {
   "cell_type": "markdown",
   "metadata": {},
   "source": [
    "### Set seed for reproducibility purposes"
   ]
  },
  {
   "cell_type": "code",
   "execution_count": 4,
   "metadata": {
    "collapsed": true
   },
   "outputs": [],
   "source": [
    "random.seed(0)"
   ]
  },
  {
   "cell_type": "markdown",
   "metadata": {},
   "source": [
    "### Load the data"
   ]
  },
  {
   "cell_type": "code",
   "execution_count": 5,
   "metadata": {
    "collapsed": true
   },
   "outputs": [],
   "source": [
    "def load_data(): \n",
    "    \"\"\" Loads and returns train and test data. \n",
    "    \"\"\"\n",
    "    # Set work directory\n",
    "    os.chdir('C:/Users/kpajm/tfdeeplearning/ceptes_data/') \n",
    "    \n",
    "    # Load data efficiently by setting numpy data types for variables\n",
    "    train_types = {\n",
    "         'Date': np.uint8, 'Product': np.uint16, 'Demand': np.uint8\n",
    "         }  \n",
    "         \n",
    "    test_types = {\n",
    "        'Date': np.uint8, 'Product': np.uint16\n",
    "         }  \n",
    "    \n",
    "    train = pd.read_csv(\"data.csv\", sep = \",\", usecols = train_types.keys(), dtype = train_types) \n",
    "    test = pd.read_csv(\"data_test.csv\", sep = \",\", usecols = test_types.keys(), dtype = test_types) \n",
    "\n",
    "    return train, test   "
   ]
  },
  {
   "cell_type": "code",
   "execution_count": 6,
   "metadata": {},
   "outputs": [
    {
     "name": "stdout",
     "output_type": "stream",
     "text": [
      "1. Loading data...\n",
      "Complete!\n",
      "\n",
      "<class 'pandas.core.frame.DataFrame'>\n",
      "RangeIndex: 10000 entries, 0 to 9999\n",
      "Data columns (total 3 columns):\n",
      "Date       10000 non-null uint8\n",
      "Product    10000 non-null uint16\n",
      "Demand     10000 non-null uint8\n",
      "dtypes: uint16(1), uint8(2)\n",
      "memory usage: 39.1 KB\n",
      "None\n"
     ]
    }
   ],
   "source": [
    "print(\"1. Loading data...\")\n",
    "train, test = load_data() \n",
    "print(\"Complete!\")\n",
    "print('')\n",
    "check_memory_usage(train)"
   ]
  },
  {
   "cell_type": "markdown",
   "metadata": {},
   "source": [
    "### Prepare data for model fitting"
   ]
  },
  {
   "cell_type": "code",
   "execution_count": 7,
   "metadata": {
    "collapsed": true
   },
   "outputs": [],
   "source": [
    "def prepare_data(train, test, cv_index):\n",
    "    \"\"\" Divide train data into training data for model and a hold-out validation set\n",
    "        based on Week value (can take 1, 2, 3, 4 as values). \n",
    "        \n",
    "        Splits outcome variable from data for model.\n",
    "        \n",
    "        Converts and returns dataframes as numpy matrices.\n",
    "    \"\"\"\n",
    "    # Reset data indices\n",
    "    train = train.reset_index(drop=True)\n",
    "    test = test.reset_index(drop=True)       \n",
    "      \n",
    "    # Get CV indices from train (Date == cv_index)\n",
    "    cv_indices = train[train['Date'] == cv_index].index\n",
    "    train_indices = train[train['Date'] != cv_index].index\n",
    "    \n",
    "    # Data for model building\n",
    "    column_names = list(train.drop(['Demand'], axis = 1).columns)\n",
    "    y_train = train.loc[train_indices, 'Demand'].values\n",
    "    X_train = train.loc[train_indices, :].drop(['Demand'], axis = 1).values\n",
    "    y_validation = train.loc[cv_indices, 'Demand'].values\n",
    "    X_validation = train.loc[cv_indices, :].drop(['Demand'], axis = 1).values\n",
    "    \n",
    "    # Return data\n",
    "    return y_train, X_train, y_validation, X_validation, column_names"
   ]
  },
  {
   "cell_type": "code",
   "execution_count": 8,
   "metadata": {},
   "outputs": [
    {
     "name": "stdout",
     "output_type": "stream",
     "text": [
      "2. Preparing data for model building...\n",
      "Complete!\n"
     ]
    }
   ],
   "source": [
    "print(\"2. Preparing data for model building...\")\n",
    "cv_index = 2\n",
    "y_train, X_train, y_validation, X_validation, column_names = prepare_data(train, test, cv_index)\n",
    "\n",
    "# Remove original train data sets from memory\n",
    "# del train\n",
    "# gc.collect()\n",
    "\n",
    "print(\"Complete!\")"
   ]
  },
  {
   "cell_type": "markdown",
   "metadata": {},
   "source": [
    "### Define XGBOOST model and parameters"
   ]
  },
  {
   "cell_type": "code",
   "execution_count": 10,
   "metadata": {},
   "outputs": [
    {
     "name": "stdout",
     "output_type": "stream",
     "text": [
      "3. Create model and define parameters...\n"
     ]
    },
    {
     "data": {
      "text/plain": [
       "XGBRegressor(base_score=0.5, booster='gbtree', colsample_bylevel=1,\n",
       "       colsample_bytree=1, gamma=0, learning_rate=0.25, max_delta_step=0,\n",
       "       max_depth=12, min_child_weight=1, missing=None, n_estimators=100,\n",
       "       n_jobs=1, nthread=None, objective='reg:linear', random_state=0,\n",
       "       reg_alpha=0, reg_lambda=1, scale_pos_weight=1, seed=0, silent=True,\n",
       "       subsample=1)"
      ]
     },
     "execution_count": 10,
     "metadata": {},
     "output_type": "execute_result"
    }
   ],
   "source": [
    "print(\"3. Create model and define parameters...\")\n",
    "xgb_params = {\n",
    "             'objective': 'reg:linear'\n",
    "             , 'n_estimators': 100 \n",
    "             , 'learning_rate': 0.25 \n",
    "             , 'max_depth': 12 \n",
    "             , 'seed': 0\n",
    "             }\n",
    "model_xgb = xgb.XGBRegressor()                \n",
    "model_xgb.set_params(**xgb_params)   "
   ]
  },
  {
   "cell_type": "markdown",
   "metadata": {},
   "source": [
    "### Create function to plot XGBOOST learning curves during fitting process"
   ]
  },
  {
   "cell_type": "code",
   "execution_count": 11,
   "metadata": {
    "collapsed": true
   },
   "outputs": [],
   "source": [
    "def plot_learning_curves(model_xgb):\n",
    "    \"\"\" Takes XGBOOST model fit on data. \n",
    "        Plots train and validation RMSE for each iteration of model.\n",
    "    \"\"\"\n",
    "    # Retrieve model performance metrics\n",
    "    results = model_xgb.evals_result()\n",
    "    epochs = len(results['validation_0']['rmse'])\n",
    "    x_axis = range(0, epochs)\n",
    "\n",
    "    # Plot RMSE\n",
    "    fig, ax = plt.subplots()\n",
    "    ax.plot(x_axis, results['validation_0']['rmse'], label='Train')\n",
    "    ax.plot(x_axis, results['validation_1']['rmse'], label='Test')\n",
    "    ax.legend()\n",
    "    plt.ylabel('RMSE')\n",
    "    plt.title('XGBoost RMSE Performance')\n",
    "    plt.show()"
   ]
  },
  {
   "cell_type": "markdown",
   "metadata": {},
   "source": [
    "### Create function to display XGBOOST feature importance scores"
   ]
  },
  {
   "cell_type": "code",
   "execution_count": 28,
   "metadata": {},
   "outputs": [],
   "source": [
    "def feature_importance_scores(model_xgb, column_names, cv_index, cv_score): \n",
    "    \"\"\" Takes fit XGBOOST model, column names, validation set index, and validation RMSLE score as inputs. \n",
    "        Plot and saves XGBOOST feature importance scores.\n",
    "    \"\"\"\n",
    "    # Create dataframe of feature importance scores\n",
    "    fscore = model_xgb.get_booster().get_fscore()\n",
    "    \n",
    "    print(fscore)\n",
    "    feature_importances = []\n",
    "    for ft, score in fscore.items(): \n",
    "        ft = column_names[int(re.sub(\"[^0-9]\",\"\", ft))]\n",
    "        feature_importances.append({'Feature': ft, 'Importance': score})\n",
    "    feature_importances = pd.DataFrame(feature_importances)\n",
    "    feature_importances = feature_importances.sort_values(by = 'Importance', ascending = False).reset_index(drop=True)\n",
    "    feature_importances['Importance'] = feature_importances['Importance'] / feature_importances['Importance'].sum()\n",
    "    \n",
    "    feature_names = feature_importances['Feature']\n",
    "    importances = feature_importances['Importance']\n",
    "    y_pos = np.asarray(range(len(feature_names), 0, -1))\n",
    "    \n",
    "    # Plot scores\n",
    "    plt.barh(y_pos, importances, align = 'center', alpha = 1.0)\n",
    "    plt.yticks(y_pos, feature_names) \n",
    "    plt.xlabel('Scores')    \n",
    "    plt.title('Feature Importance Scores')\n",
    "\n",
    "    # Save to file\n",
    "    os.chdir('C:/Users/kpajm/tfdeeplearning/ceptes_data/schema') \n",
    "    plt.savefig('feature_importances_xgb_' + '_' + 'Date_' + str(cv_index) + '_' + 'cv_score_' + str(round(cv_score, 4)) + '_' + 'LB_score_' + '.png')\n",
    "    os.chdir('C:/Users/kpajm/tfdeeplearning/ceptes_data/data')     \n",
    "    \n",
    "    # Display plot\n",
    "    plt.show()\n",
    "    \n",
    "    return feature_importances"
   ]
  },
  {
   "cell_type": "markdown",
   "metadata": {},
   "source": [
    "### Fit XGBOOST model to data"
   ]
  },
  {
   "cell_type": "code",
   "execution_count": 29,
   "metadata": {
    "collapsed": true
   },
   "outputs": [],
   "source": [
    "def fit_model_xgb(model, y_train, X_train, y_validation, X_validation, column_names): \n",
    "    \"\"\" Takes XGBOOST model, all data sets excluding test, and data column names as inputs.\n",
    "        Fits XGBOOST model on train data and checks RMSLE score on validation data.\n",
    "    \"\"\"\n",
    "    # Start timer\n",
    "    start = time.time()\n",
    "    \n",
    "    # Build predictive model\n",
    "    print(\"Fitting predictive model...\")\n",
    "    model.fit(X_train, np.log1p(y_train)\n",
    "            , eval_set = [(X_train, y_train), (X_validation, y_validation)]\n",
    "            , eval_metric = \"rmse\"\n",
    "            , early_stopping_rounds = 5) \n",
    "    print(\"Model fitting complete!!!\")\n",
    "    \n",
    "    # Generate and print CV RMSLE score: ....\n",
    "    preds_validation = np.expm1(model.predict(X_validation))   \n",
    "    cv_score = RMSLE(y_validation, preds_validation)  \n",
    "    print(\"Validation Score (RMSLE): {}\".format(str(round(cv_score, 4))))\n",
    "\n",
    "    # Plot learning curves\n",
    "    plot_learning_curves(model)\n",
    "    print('')\n",
    "\n",
    "    # Plot and save feature importance scores\n",
    "    feature_importances = feature_importance_scores(model, column_names, cv_index, cv_score)         \n",
    "    print(feature_importances)   \n",
    "    print('')\n",
    "    \n",
    "    # Calculate time elapsed\n",
    "    end = time.time()\n",
    "    time_elapsed = (end - start)    \n",
    "    \n",
    "    # Print completion messages\n",
    "    print(\"Model building complete!\")\n",
    "    print(\"Time Elapsed: {} seconds\".format(str(time_elapsed)))\n",
    "    \n",
    "    return model, cv_score, feature_importances, time_elapsed"
   ]
  },
  {
   "cell_type": "code",
   "execution_count": 31,
   "metadata": {
    "scrolled": false
   },
   "outputs": [
    {
     "name": "stdout",
     "output_type": "stream",
     "text": [
      "4. Fitting data to model...\n",
      "Fitting predictive model...\n",
      "[0]\tvalidation_0-rmse:8.55919\tvalidation_1-rmse:3.16075\n",
      "Multiple eval metrics have been passed: 'validation_1-rmse' will be used for early stopping.\n",
      "\n",
      "Will train until validation_1-rmse hasn't improved in 5 rounds.\n",
      "[1]\tvalidation_0-rmse:8.29757\tvalidation_1-rmse:2.94707\n",
      "[2]\tvalidation_0-rmse:8.10236\tvalidation_1-rmse:2.78923\n",
      "[3]\tvalidation_0-rmse:7.95635\tvalidation_1-rmse:2.67245\n",
      "[4]\tvalidation_0-rmse:7.84721\tvalidation_1-rmse:2.58597\n",
      "[5]\tvalidation_0-rmse:7.76543\tvalidation_1-rmse:2.52173\n",
      "[6]\tvalidation_0-rmse:7.70409\tvalidation_1-rmse:2.47394\n",
      "[7]\tvalidation_0-rmse:7.65807\tvalidation_1-rmse:2.43833\n",
      "[8]\tvalidation_0-rmse:7.6236\tvalidation_1-rmse:2.4118\n",
      "[9]\tvalidation_0-rmse:7.59774\tvalidation_1-rmse:2.39189\n",
      "[10]\tvalidation_0-rmse:7.57833\tvalidation_1-rmse:2.37686\n",
      "[11]\tvalidation_0-rmse:7.56374\tvalidation_1-rmse:2.36571\n",
      "[12]\tvalidation_0-rmse:7.55279\tvalidation_1-rmse:2.35734\n",
      "[13]\tvalidation_0-rmse:7.54456\tvalidation_1-rmse:2.35107\n",
      "[14]\tvalidation_0-rmse:7.53838\tvalidation_1-rmse:2.34637\n",
      "[15]\tvalidation_0-rmse:7.53375\tvalidation_1-rmse:2.34281\n",
      "[16]\tvalidation_0-rmse:7.53026\tvalidation_1-rmse:2.34013\n",
      "[17]\tvalidation_0-rmse:7.52765\tvalidation_1-rmse:2.33814\n",
      "[18]\tvalidation_0-rmse:7.52568\tvalidation_1-rmse:2.33665\n",
      "[19]\tvalidation_0-rmse:7.5242\tvalidation_1-rmse:2.33551\n",
      "[20]\tvalidation_0-rmse:7.52309\tvalidation_1-rmse:2.33467\n",
      "[21]\tvalidation_0-rmse:7.52225\tvalidation_1-rmse:2.33405\n",
      "[22]\tvalidation_0-rmse:7.52163\tvalidation_1-rmse:2.33357\n",
      "[23]\tvalidation_0-rmse:7.52115\tvalidation_1-rmse:2.33322\n",
      "[24]\tvalidation_0-rmse:7.5208\tvalidation_1-rmse:2.33295\n",
      "[25]\tvalidation_0-rmse:7.52053\tvalidation_1-rmse:2.33275\n",
      "[26]\tvalidation_0-rmse:7.52034\tvalidation_1-rmse:2.33259\n",
      "[27]\tvalidation_0-rmse:7.52018\tvalidation_1-rmse:2.33248\n",
      "[28]\tvalidation_0-rmse:7.52007\tvalidation_1-rmse:2.33239\n",
      "[29]\tvalidation_0-rmse:7.51999\tvalidation_1-rmse:2.33232\n",
      "[30]\tvalidation_0-rmse:7.51992\tvalidation_1-rmse:2.33228\n",
      "[31]\tvalidation_0-rmse:7.51987\tvalidation_1-rmse:2.33224\n",
      "[32]\tvalidation_0-rmse:7.51984\tvalidation_1-rmse:2.33222\n",
      "[33]\tvalidation_0-rmse:7.51981\tvalidation_1-rmse:2.3322\n",
      "[34]\tvalidation_0-rmse:7.51979\tvalidation_1-rmse:2.33219\n",
      "[35]\tvalidation_0-rmse:7.51978\tvalidation_1-rmse:2.33217\n",
      "[36]\tvalidation_0-rmse:7.51977\tvalidation_1-rmse:2.33217\n",
      "[37]\tvalidation_0-rmse:7.51976\tvalidation_1-rmse:2.33216\n",
      "[38]\tvalidation_0-rmse:7.51975\tvalidation_1-rmse:2.33215\n",
      "[39]\tvalidation_0-rmse:7.51975\tvalidation_1-rmse:2.33215\n",
      "[40]\tvalidation_0-rmse:7.51975\tvalidation_1-rmse:2.33215\n",
      "[41]\tvalidation_0-rmse:7.51974\tvalidation_1-rmse:2.33215\n",
      "[42]\tvalidation_0-rmse:7.51974\tvalidation_1-rmse:2.33214\n",
      "[43]\tvalidation_0-rmse:7.51974\tvalidation_1-rmse:2.33214\n",
      "[44]\tvalidation_0-rmse:7.51974\tvalidation_1-rmse:2.33214\n",
      "[45]\tvalidation_0-rmse:7.51974\tvalidation_1-rmse:2.33214\n",
      "[46]\tvalidation_0-rmse:7.51974\tvalidation_1-rmse:2.33214\n",
      "[47]\tvalidation_0-rmse:7.51974\tvalidation_1-rmse:2.33214\n",
      "[48]\tvalidation_0-rmse:7.51974\tvalidation_1-rmse:2.33214\n",
      "[49]\tvalidation_0-rmse:7.51974\tvalidation_1-rmse:2.33214\n",
      "[50]\tvalidation_0-rmse:7.51974\tvalidation_1-rmse:2.33214\n",
      "[51]\tvalidation_0-rmse:7.51974\tvalidation_1-rmse:2.33214\n",
      "[52]\tvalidation_0-rmse:7.51974\tvalidation_1-rmse:2.33214\n",
      "[53]\tvalidation_0-rmse:7.51974\tvalidation_1-rmse:2.33214\n",
      "[54]\tvalidation_0-rmse:7.51974\tvalidation_1-rmse:2.33214\n",
      "Stopping. Best iteration:\n",
      "[49]\tvalidation_0-rmse:7.51974\tvalidation_1-rmse:2.33214\n",
      "\n",
      "Model fitting complete!!!\n",
      "Validation Score (RMSLE): 0.4163\n"
     ]
    },
    {
     "data": {
      "image/png": "[encoded data removed]",
      "text/plain": [
       "<matplotlib.figure.Figure at 0x1b87b500518>"
      ]
     },
     "metadata": {},
     "output_type": "display_data"
    },
    {
     "name": "stdout",
     "output_type": "stream",
     "text": [
      "\n",
      "{'f0': 382, 'f1': 602}\n"
     ]
    },
    {
     "data": {
      "image/png": "[encoded data removed]",
      "text/plain": [
       "<matplotlib.figure.Figure at 0x1b87b380518>"
      ]
     },
     "metadata": {},
     "output_type": "display_data"
    },
    {
     "name": "stdout",
     "output_type": "stream",
     "text": [
      "   Feature  Importance\n",
      "0  Product    0.611789\n",
      "1     Date    0.388211\n",
      "\n",
      "Model building complete!\n",
      "Time Elapsed: 0.6238248348236084 seconds\n",
      "Complete!\n"
     ]
    }
   ],
   "source": [
    "print(\"4. Fitting data to model...\")\n",
    "model_xgb, cv_score, feature_importances, time_elapsed = fit_model_xgb(model_xgb, y_train, X_train, y_validation, X_validation, column_names)\n",
    "print(\"Complete!\")"
   ]
  },
  {
   "cell_type": "markdown",
   "metadata": {},
   "source": [
    "### Generate predictions for test data"
   ]
  },
  {
   "cell_type": "code",
   "execution_count": 32,
   "metadata": {
    "collapsed": true
   },
   "outputs": [],
   "source": [
    "def generate_test_predictions(model, test):\n",
    "    \"\"\" Takes fit XGBOOST model and test data as inputs. \n",
    "        Generates and returns model predictions on test data.\n",
    "    \"\"\"\n",
    "    predictions = np.expm1(model.predict(test.values))\n",
    "    return predictions  "
   ]
  },
  {
   "cell_type": "code",
   "execution_count": 34,
   "metadata": {},
   "outputs": [
    {
     "name": "stdout",
     "output_type": "stream",
     "text": [
      "5. Generating test set predictions...\n",
      "Complete!\n"
     ]
    }
   ],
   "source": [
    "print(\"5. Generating test set predictions...\")\n",
    "test_predictions = generate_test_predictions(model_xgb, test)  \n",
    "print(\"Complete!\")"
   ]
  },
  {
   "cell_type": "markdown",
   "metadata": {},
   "source": [
    "### Write predictions to CSV"
   ]
  },
  {
   "cell_type": "code",
   "execution_count": 69,
   "metadata": {
    "collapsed": true
   },
   "outputs": [],
   "source": [
    "def generate_submission_CSV_predictions(predictions, cv_score, model_name, cv_index): \n",
    "    \"\"\" Takes predictions, validation RMSLE score, string of model name, and index used for validation set as inputs. \n",
    "        Writes test predictions to CSV file.\n",
    "    \"\"\"             \n",
    "    # Create dataframe with test predictions\n",
    "    os.chdir('C:/Users/kpajm/tfdeeplearning') \n",
    "    df = pd.DataFrame(predictions, dtype = float, columns = ['Demand'])\n",
    "    df_true = pd.read_csv('ceptes_data/data_test.csv')\n",
    "    frames = [df_true, df]\n",
    "    df = pd.concat(frames,axis=1)\n",
    "    \n",
    "    # Write to csv\n",
    "    os.chdir('C:/Users/kpajm/tfdeeplearning/ceptes_data/submissions')  \n",
    "    name = 'result_' + model_name + '.csv'\n",
    "    df.to_csv(name, header = True,index = False)\n",
    "    os.chdir('C:/Users/kpajm/tfdeeplearning/ceptes_data/data')\n",
    "    return df"
   ]
  },
  {
   "cell_type": "code",
   "execution_count": 73,
   "metadata": {},
   "outputs": [
    {
     "name": "stdout",
     "output_type": "stream",
     "text": [
      "6. Writing predictions to CSV\n"
     ]
    }
   ],
   "source": [
    "print(\"6. Writing predictions to CSV\") \n",
    "df = generate_submission_CSV_predictions(test_predictions, cv_score, model_name = 'ceptes_project', cv_index = cv_index)"
   ]
  },
  {
   "cell_type": "code",
   "execution_count": 75,
   "metadata": {},
   "outputs": [
    {
     "data": {
      "text/html": [
       "<div>\n",
       "<style scoped>\n",
       "    .dataframe tbody tr th:only-of-type {\n",
       "        vertical-align: middle;\n",
       "    }\n",
       "\n",
       "    .dataframe tbody tr th {\n",
       "        vertical-align: top;\n",
       "    }\n",
       "\n",
       "    .dataframe thead th {\n",
       "        text-align: right;\n",
       "    }\n",
       "</style>\n",
       "<table border=\"1\" class=\"dataframe\">\n",
       "  <thead>\n",
       "    <tr style=\"text-align: right;\">\n",
       "      <th></th>\n",
       "      <th>Date</th>\n",
       "      <th>Product</th>\n",
       "      <th>Demand</th>\n",
       "      <th>Demand</th>\n",
       "    </tr>\n",
       "  </thead>\n",
       "  <tbody>\n",
       "    <tr>\n",
       "      <th>0</th>\n",
       "      <td>1</td>\n",
       "      <td>100</td>\n",
       "      <td>1</td>\n",
       "      <td>1.000525</td>\n",
       "    </tr>\n",
       "    <tr>\n",
       "      <th>1</th>\n",
       "      <td>1</td>\n",
       "      <td>101</td>\n",
       "      <td>1</td>\n",
       "      <td>1.000525</td>\n",
       "    </tr>\n",
       "    <tr>\n",
       "      <th>2</th>\n",
       "      <td>1</td>\n",
       "      <td>102</td>\n",
       "      <td>1</td>\n",
       "      <td>1.000525</td>\n",
       "    </tr>\n",
       "    <tr>\n",
       "      <th>3</th>\n",
       "      <td>1</td>\n",
       "      <td>103</td>\n",
       "      <td>1</td>\n",
       "      <td>1.398309</td>\n",
       "    </tr>\n",
       "    <tr>\n",
       "      <th>4</th>\n",
       "      <td>1</td>\n",
       "      <td>104</td>\n",
       "      <td>1</td>\n",
       "      <td>1.678577</td>\n",
       "    </tr>\n",
       "  </tbody>\n",
       "</table>\n",
       "</div>"
      ],
      "text/plain": [
       "   Date  Product  Demand    Demand\n",
       "0     1      100       1  1.000525\n",
       "1     1      101       1  1.000525\n",
       "2     1      102       1  1.000525\n",
       "3     1      103       1  1.398309\n",
       "4     1      104       1  1.678577"
      ]
     },
     "execution_count": 75,
     "metadata": {},
     "output_type": "execute_result"
    }
   ],
   "source": [
    "df.head()"
   ]
  },
  {
   "cell_type": "code",
   "execution_count": null,
   "metadata": {
    "collapsed": true
   },
   "outputs": [],
   "source": []
  }
 ],
 "metadata": {
  "kernelspec": {
   "display_name": "Python 3",
   "language": "python",
   "name": "python3"
  },
  "language_info": {
   "codemirror_mode": {
    "name": "ipython",
    "version": 3
   },
   "file_extension": ".py",
   "mimetype": "text/x-python",
   "name": "python",
   "nbconvert_exporter": "python",
   "pygments_lexer": "ipython3",
   "version": "3.5.4"
  }
 },
 "nbformat": 4,
 "nbformat_minor": 1
}
